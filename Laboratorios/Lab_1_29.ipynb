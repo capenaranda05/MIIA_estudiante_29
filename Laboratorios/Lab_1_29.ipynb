{
 "cells": [
  {
   "cell_type": "markdown",
   "metadata": {},
   "source": [
    "<img src=\"Archivos/miia.jpg\" width=800x>\n",
    "\n",
    "# Laboratorio 1\n",
    "\n",
    "## Desarrollo de una herramienta analítica usando solo Python\n",
    "\n",
    "Este laboratorio busca evaluar las habilidades relacionadas con la primera parte del curso, correspondiente a las primeras tres semanas. Este enunciado estará disponible desde la semana 2 y deberá entregarse al final de la semana 4 en el enlace correspondiente. Su desarrollo corresponde al 30% de la calificación total del curso.\n",
    "\n",
    "Esta actividad responde directamente al segundo objetivo del curso:\n",
    "* Implementar una herramienta analítica que permita responder una pregunta de negocio para un problema sencillo de analítica de datos, utilizando únicamente algorítmica básica en Python.\n",
    "\n",
    "Al desarrollar este laboratorio pondrás a prueba tus habilidades para: \n",
    "1. Leer datos desde archivos.\n",
    "2. Almacenar datos en  estructuras de Python.\n",
    "3. Crear y llamar funciones correctamente.\n",
    "4. Implementar condicionales diferenciando *if*, *elif* y *else*\n",
    "5. Implementar ciclos diferenciando el propósito de *for* y *while*\n",
    "6. Importar paquetes y utilizar sus funciones.\n",
    "\n",
    "**NOTAS:**\n",
    "- Te recomendamos leer por completo el enunciado del laboratorio antes de comenzar, de forma que tengas claro el propósito completo de la actividad, y puedas desarrollar tu solución apuntando a él desde el comienzo.\n"
   ]
  },
  {
   "cell_type": "markdown",
   "metadata": {},
   "source": [
    "## Contexto: exploración del potencial para asignar becas Uniandes\n",
    "La Universidad de los Andes se ha caracterizado por su compromiso con la generación de impacto en la sociedad a través de diferentes programas de becas. Programas como Quiero Estudiar, o Ser Pilo Paga, entre otros, han sido revolucionarios, al permitir que estudiantes de bajos recursos puedan acceder a una de las universidades privadas más importantes del país.\n",
    "\n",
    "Actualmente, la Universidad quiere evaluar el potencial impacto que tendrían algunos programas de *acción afirmativa* para asignación de becas, con base en información demográfica que ha obtenido a través de encuestas. Se cuenta con información respecto a la edad, género, estado civil, estrato socio-económico, región de proveniencia, desempeño académico y nivel de escolaridad de las personas que han respondido encuestas. Los encargados de diseñar el programa saben que utilizar criterios basados en este tipo de variables es un tema sensible, pero es necesario si se quieren focalizar las oportunidades en poblaciones menos representadas.\n",
    "\n",
    "El objetivo de este laboratorio es crear una herramienta computacional que permita a un tomador de decisiones explorar qué efecto podría tener el uso de diferentes reglas para seleccionar la población que sería beneficiaria de las becas. Puntualmente, se espera que, dadas unas reglas de selección (ej.: pertenecer a cierta región, rango de edad, etc.), la herramienta ofrezca información sobre la población potencialmente beneficiada, de forma que exista un sustento al momento de definir las reglas de selección."
   ]
  },
  {
   "cell_type": "markdown",
   "metadata": {},
   "source": [
    "## 1. Obtención e inspección de archivos\n",
    "\n",
    "Los datos de encuestas fueron obtenidos como parte de un trabajo de campo, y por limitaciones tecnológicas, solo se cuenta con la información en archivos de texto plano. Cada archivo corresponde a una de las variables antes mencionadas y se puede garantizar que todos relacionan a las personas encuestadas en el mismo orden (i.e., la primera línea de todos los archivos corresponde a datos de la primera persona encuestada, la segunda línea a la segunda persona, etc.).\n",
    "\n",
    "Los archivos con los que se cuenta son:\n",
    "* *edades.txt*: un archivo ordenado con las edades de cada persona de la población encuestada \n",
    "* *género.txt*: un archivo ordenado con el género de cada persona de la población encuestada \n",
    "* *estado_civil.txt*: un archivo ordenado con el estado civil de cada persona de la población encuestada \n",
    "* *escolaridad.txt*: un archivo ordenado con el nivel de escolaridad de cada persona de la población encuestada \n",
    "* *estrato.txt*: un archivo ordenado con el estrato socio-económico de cada persona de la población encuestada\n",
    "* *region.txt*: un archivo ordenado con la región de proveniencia de cada persona de la población encuestada"
   ]
  },
  {
   "cell_type": "markdown",
   "metadata": {},
   "source": [
    "**Misión 1**\n",
    "\n",
    "Poner en variables de Python la información que está en los archivos listados arriba.\n",
    "\n",
    "* *Versión base*: escribe línea a línea el código necesario para poner en variables de Python la información de cada uno de los archivos.\n",
    "\n",
    "* *Milla extra*: escribe una función que sea capaz de hacer lo anterior para un archivo y úsala en un ciclo para automatizar la lectura de los diferentes archivos."
   ]
  },
  {
   "cell_type": "code",
   "execution_count": 9,
   "metadata": {},
   "outputs": [
    {
     "name": "stdout",
     "output_type": "stream",
     "text": [
      "{'edad': ['36', '66', '24', '55', '26', '69', '79', '54', '51', '80', '30', '64', '40', '53', '47', '24', '76', '65', '38', '37', '71', '51', '51', '33', '24', '71', '78', '75', '38', '49', '49', '53', '62', '26', '67', '68', '70', '57', '47', '30', '44', '22', '30', '64', '21', '54', '35', '52', '27', '20', '59', '40', '23', '58', '71', '77', '70', '31', '19', '31', '75', '63', '79', '67', '46', '79', '30', '19', '64', '52', '79', '35', '74', '18', '22', '58', '77', '22', '73', '59', '18', '46', '35', '38', '80', '65', '41', '46', '36', '46', '56', '37', '67', '20', '46', '62', '70', '31', '20', '64', '78', '66', '45', '43', '70', '43', '24', '58', '62', '60', '80', '73', '73', '57', '42', '51', '52', '58', '39', '43', '66', '32', '49', '44', '57', '39', '21', '27', '31', '28', '44', '80', '71', '33', '22', '78', '60', '70', '62', '45', '78', '78', '42', '21', '44', '38', '19', '31', '58', '69', '34', '69', '80', '20', '59', '29', '33', '29', '44', '55', '47', '26', '47', '20', '43', '27', '29', '21', '70', '69', '45', '69', '34', '28', '50', '79', '29', '53', '36', '39', '57', '62', '42', '51', '57', '67', '52', '58', '36', '27', '70', '21', '55', '50', '46', '75', '54', '80', '61', '78', '21', '76', '61', '67', '66', '27', '74', '21', '21', '55', '45', '21', '22', '30', '64', '78', '52', '61', '19', '53', '43', '66', '34', '43', '70', '27', '53', '40', '32', '33', '63', '69', '22', '58', '23', '44', '65', '20', '39', '54', '24', '54', '50', '59', '20', '19', '19', '36', '48', '59', '25', '74', '36', '57', '66', '60', '56', '48', '68', '60', '50', '30', '36', '78', '75', '36', '80', '48', '74', '47', '40', '71', '57', '46', '77', '29', '77', '65', '35', '29', '36', '53', '22', '28', '61', '40', '57', '20', '43', '54', '54', '18', '75', '45', '39', '41', '56', '71', '54', '58', '79', '30', '75', '45', '38', '55', '24', '68', '30', '24', '52', '29', '76', '25', '58', '65', '53', '64', '32', '74', '18', '52', '48', '65', '42', '77', '31', '63', '35', '48', '71', '48', '70', '57', '32', '45', '68', '23', '26', '37', '34', '27', '49', '57', '42', '67', '70', '59', '29', '20', '42', '18', '48', '41', '77', '68', '79', '49', '24', '24', '23', '73', '27', '32', '80', '39', '74', '47', '44', '54', '46', '77', '55', '34', '74', '21', '69', '69', '62', '35', '21', '24', '75', '67', '71', '49', '28', '56', '58', '68', '42', '60', '44', '37', '69', '75', '27', '57', '52', '22', '76', '48', '78', '79', '28', '50', '35', '66', '66', '58', '22', '23', '74', '38', '31', '39', '55', '18', '66', '30', '57', '28', '50', '24', '76', '18', '44', '80', '54', '43', '50', '79', '67', '63', '53', '71', '19', '38', '53', '65', '20', '45', '25', '75', '66', '25', '24', '33', '43', '66', '33', '46', '53', '36', '50', '76', '80', '74', '64', '22', '41', '20', '75', '54', '72', '38', '24', '67', '32', '50', '35', '21', '54', '64', '29', '29', '38', '47', '27', '73', '26', '69', '35', '70', '25', '19', '80', '60', '39', '76', '34', '59', '49', '23', '34', '23', '24', '50', '54', '66'], 'escolaridad': ['Secundaria', 'Profesional', 'Secundaria', 'Secundaria', 'Secundaria', 'Secundaria', 'Secundaria', 'Secundaria', 'Secundaria', 'Profesional', 'Secundaria', 'Primaria', 'Secundaria', 'Secundaria', 'Secundaria', 'Secundaria', 'Secundaria', 'Secundaria', 'Secundaria', 'Profesional', 'Secundaria', 'Secundaria', 'Secundaria', 'Secundaria', 'Profesional', 'Secundaria', 'Secundaria', 'Secundaria', 'Secundaria', 'Secundaria', 'Secundaria', 'Secundaria', 'Secundaria', 'Secundaria', 'Secundaria', 'Profesional', 'Secundaria', 'Primaria', 'Secundaria', 'Maestria', 'Secundaria', 'Secundaria', 'Secundaria', 'Secundaria', 'Secundaria', 'Secundaria', 'Secundaria', 'Secundaria', 'Secundaria', 'Secundaria', 'Secundaria', 'Profesional', 'Profesional', 'Secundaria', 'Secundaria', 'Secundaria', 'Profesional', 'Secundaria', 'Secundaria', 'Secundaria', 'Primaria', 'Profesional', 'Secundaria', 'Profesional', 'Secundaria', 'Secundaria', 'Secundaria', 'Secundaria', 'Secundaria', 'Secundaria', 'Secundaria', 'Secundaria', 'Secundaria', 'Secundaria', 'Profesional', 'Profesional', 'Secundaria', 'Profesional', 'Secundaria', 'Secundaria', 'Profesional', 'Secundaria', 'Secundaria', 'Maestria', 'Secundaria', 'Secundaria', 'Profesional', 'Profesional', 'Secundaria', 'Secundaria', 'Secundaria', 'Secundaria', 'Secundaria', 'Profesional', 'Secundaria', 'Secundaria', 'Profesional', 'Profesional', 'Profesional', 'Secundaria', 'Secundaria', 'Secundaria', 'Profesional', 'Maestria', 'Profesional', 'Secundaria', 'Primaria', 'Secundaria', 'Profesional', 'Profesional', 'Primaria', 'Secundaria', 'Secundaria', 'Profesional', 'Profesional', 'Profesional', 'Secundaria', 'Secundaria', 'Maestria', 'Secundaria', 'Profesional', 'Secundaria', 'Secundaria', 'Profesional', 'Secundaria', 'Secundaria', 'Secundaria', 'Profesional', 'Secundaria', 'Secundaria', 'Profesional', 'Secundaria', 'Secundaria', 'Profesional', 'Secundaria', 'Secundaria', 'Secundaria', 'Profesional', 'Secundaria', 'Secundaria', 'Secundaria', 'Profesional', 'Secundaria', 'Profesional', 'Primaria', 'Secundaria', 'Profesional', 'Secundaria', 'Secundaria', 'Profesional', 'Profesional', 'Secundaria', 'Primaria', 'Secundaria', 'Primaria', 'Secundaria', 'Secundaria', 'Secundaria', 'Profesional', 'Profesional', 'Secundaria', 'Secundaria', 'Secundaria', 'Profesional', 'Secundaria', 'Secundaria', 'Secundaria', 'Secundaria', 'Secundaria', 'Secundaria', 'Secundaria', 'Secundaria', 'Secundaria', 'Maestria', 'Secundaria', 'Secundaria', 'Secundaria', 'Profesional', 'Secundaria', 'Secundaria', 'Secundaria', 'Secundaria', 'Profesional', 'Secundaria', 'Secundaria', 'Secundaria', 'Secundaria', 'Secundaria', 'Primaria', 'Secundaria', 'Profesional', 'Secundaria', 'Secundaria', 'Secundaria', 'Secundaria', 'Secundaria', 'Profesional', 'Secundaria', 'Maestria', 'Secundaria', 'Secundaria', 'Profesional', 'Secundaria', 'Secundaria', 'Profesional', 'Profesional', 'Profesional', 'Profesional', 'Profesional', 'Secundaria', 'Profesional', 'Profesional', 'Maestria', 'Secundaria', 'Secundaria', 'Secundaria', 'Maestria', 'Secundaria', 'Secundaria', 'Secundaria', 'Secundaria', 'Profesional', 'Profesional', 'Secundaria', 'Secundaria', 'Profesional', 'Profesional', 'Secundaria', 'Secundaria', 'Secundaria', 'Profesional', 'Secundaria', 'Profesional', 'Secundaria', 'Secundaria', 'Profesional', 'Secundaria', 'Secundaria', 'Secundaria', 'Secundaria', 'Secundaria', 'Secundaria', 'Profesional', 'Secundaria', 'Secundaria', 'Secundaria', 'Secundaria', 'Secundaria', 'Secundaria', 'Primaria', 'Secundaria', 'Secundaria', 'Profesional', 'Secundaria', 'Secundaria', 'Secundaria', 'Secundaria', 'Secundaria', 'Secundaria', 'Secundaria', 'Secundaria', 'Secundaria', 'Secundaria', 'Profesional', 'Secundaria', 'Profesional', 'Secundaria', 'Secundaria', 'Secundaria', 'Secundaria', 'Secundaria', 'Secundaria', 'Secundaria', 'Secundaria', 'Secundaria', 'Secundaria', 'Secundaria', 'Secundaria', 'Secundaria', 'Profesional', 'Secundaria', 'Secundaria', 'Secundaria', 'Secundaria', 'Secundaria', 'Secundaria', 'Primaria', 'Secundaria', 'Secundaria', 'Secundaria', 'Profesional', 'Profesional', 'Secundaria', 'Secundaria', 'Primaria', 'Profesional', 'Secundaria', 'Profesional', 'Secundaria', 'Maestria', 'Secundaria', 'Secundaria', 'Secundaria', 'Secundaria', 'Secundaria', 'Secundaria', 'Primaria', 'Profesional', 'Secundaria', 'Profesional', 'Secundaria', 'Profesional', 'Profesional', 'Profesional', 'Secundaria', 'Profesional', 'Profesional', 'Secundaria', 'Profesional', 'Profesional', 'Secundaria', 'Maestria', 'Profesional', 'Profesional', 'Secundaria', 'Secundaria', 'Profesional', 'Secundaria', 'Profesional', 'Secundaria', 'Primaria', 'Secundaria', 'Secundaria', 'Primaria', 'Primaria', 'Maestria', 'Secundaria', 'Profesional', 'Secundaria', 'Secundaria', 'Secundaria', 'Secundaria', 'Profesional', 'Secundaria', 'Secundaria', 'Secundaria', 'Secundaria', 'Profesional', 'Secundaria', 'Secundaria', 'Secundaria', 'Secundaria', 'Primaria', 'Secundaria', 'Secundaria', 'Maestria', 'Secundaria', 'Secundaria', 'Secundaria', 'Secundaria', 'Profesional', 'Profesional', 'Secundaria', 'Secundaria', 'Secundaria', 'Profesional', 'Profesional', 'Profesional', 'Profesional', 'Secundaria', 'Profesional', 'Profesional', 'Secundaria', 'Secundaria', 'Profesional', 'Secundaria', 'Secundaria', 'Secundaria', 'Secundaria', 'Secundaria', 'Primaria', 'Secundaria', 'Secundaria', 'Secundaria', 'Secundaria', 'Secundaria', 'Secundaria', 'Secundaria', 'Secundaria', 'Profesional', 'Secundaria', 'Primaria', 'Primaria', 'Secundaria', 'Profesional', 'Secundaria', 'Primaria', 'Secundaria', 'Secundaria', 'Secundaria', 'Profesional', 'Secundaria', 'Secundaria', 'Profesional', 'Secundaria', 'Profesional', 'Secundaria', 'Secundaria', 'Profesional', 'Secundaria', 'Secundaria', 'Secundaria', 'Secundaria', 'Secundaria', 'Primaria', 'Secundaria', 'Secundaria', 'Secundaria', 'Primaria', 'Secundaria', 'Secundaria', 'Secundaria', 'Secundaria', 'Secundaria', 'Secundaria', 'Secundaria', 'Profesional', 'Primaria', 'Profesional', 'Profesional', 'Secundaria', 'Secundaria', 'Secundaria', 'Secundaria', 'Secundaria', 'Secundaria', 'Secundaria', 'Secundaria', 'Profesional', 'Profesional', 'Secundaria', 'Secundaria', 'Maestria', 'Secundaria', 'Profesional', 'Maestria', 'Secundaria', 'Secundaria', 'Profesional', 'Secundaria', 'Profesional', 'Secundaria', 'Secundaria', 'Profesional', 'Secundaria', 'Secundaria', 'Secundaria', 'Profesional', 'Secundaria', 'Profesional', 'Secundaria', 'Profesional', 'Maestria', 'Secundaria', 'Secundaria', 'Secundaria', 'Secundaria', 'Secundaria', 'Secundaria', 'Secundaria', 'Secundaria', 'Secundaria', 'Profesional', 'Secundaria', 'Secundaria', 'Secundaria', 'Secundaria', 'Secundaria', 'Secundaria', 'Secundaria', 'Secundaria', 'Secundaria', 'Secundaria', 'Secundaria', 'Profesional', 'Secundaria', 'Secundaria', 'Primaria', 'Secundaria', 'Secundaria', 'Secundaria', 'Profesional', 'Profesional', 'Secundaria', 'Secundaria', 'Secundaria', 'Secundaria', 'Profesional', 'Secundaria', 'Secundaria'], 'estado_civil': ['casada', 'divorciada', 'divorciada', 'casada', 'divorciada', 'divorciada', 'casada', 'casada', 'soltera', 'soltera', 'soltera', 'casada', 'casada', 'casada', 'divorciada', 'divorciada', 'casada', 'divorciada', 'soltera', 'casada', 'soltera', 'soltera', 'casada', 'casada', 'casada', 'divorciada', 'soltera', 'soltera', 'soltera', 'divorciada', 'casada', 'divorciada', 'casada', 'casada', 'casada', 'divorciada', 'divorciada', 'divorciada', 'casada', 'soltera', 'divorciada', 'soltera', 'divorciada', 'soltera', 'soltera', 'casada', 'casada', 'divorciada', 'casada', 'soltera', 'soltera', 'casada', 'soltera', 'casada', 'viuda', 'divorciada', 'viuda', 'casada', 'divorciada', 'divorciada', 'casada', 'soltera', 'soltera', 'divorciada', 'casada', 'casada', 'divorciada', 'divorciada', 'divorciada', 'soltera', 'casada', 'divorciada', 'soltera', 'casada', 'casada', 'divorciada', 'soltera', 'divorciada', 'casada', 'casada', 'divorciada', 'soltera', 'divorciada', 'divorciada', 'divorciada', 'casada', 'casada', 'casada', 'casada', 'divorciada', 'divorciada', 'casada', 'soltera', 'casada', 'casada', 'casada', 'divorciada', 'casada', 'casada', 'viuda', 'soltera', 'casada', 'casada', 'casada', 'soltera', 'casada', 'casada', 'divorciada', 'viuda', 'soltera', 'soltera', 'divorciada', 'divorciada', 'divorciada', 'casada', 'divorciada', 'casada', 'divorciada', 'casada', 'soltera', 'casada', 'soltera', 'casada', 'divorciada', 'soltera', 'divorciada', 'divorciada', 'casada', 'soltera', 'divorciada', 'casada', 'viuda', 'divorciada', 'casada', 'soltera', 'divorciada', 'soltera', 'divorciada', 'divorciada', 'casada', 'soltera', 'soltera', 'divorciada', 'soltera', 'soltera', 'casada', 'divorciada', 'divorciada', 'casada', 'casada', 'soltera', 'casada', 'divorciada', 'casada', 'divorciada', 'soltera', 'soltera', 'casada', 'casada', 'soltera', 'soltera', 'casada', 'casada', 'viuda', 'soltera', 'soltera', 'casada', 'casada', 'soltera', 'divorciada', 'soltera', 'soltera', 'divorciada', 'divorciada', 'viuda', 'casada', 'casada', 'soltera', 'divorciada', 'soltera', 'casada', 'soltera', 'casada', 'casada', 'casada', 'casada', 'divorciada', 'divorciada', 'casada', 'soltera', 'casada', 'soltera', 'casada', 'casada', 'casada', 'casada', 'soltera', 'soltera', 'casada', 'casada', 'soltera', 'casada', 'divorciada', 'casada', 'casada', 'divorciada', 'casada', 'casada', 'casada', 'casada', 'casada', 'casada', 'casada', 'divorciada', 'casada', 'soltera', 'soltera', 'divorciada', 'casada', 'casada', 'divorciada', 'divorciada', 'soltera', 'soltera', 'soltera', 'divorciada', 'divorciada', 'casada', 'casada', 'soltera', 'soltera', 'divorciada', 'divorciada', 'soltera', 'soltera', 'viuda', 'soltera', 'divorciada', 'casada', 'casada', 'casada', 'divorciada', 'casada', 'divorciada', 'divorciada', 'soltera', 'casada', 'soltera', 'divorciada', 'casada', 'divorciada', 'soltera', 'divorciada', 'soltera', 'divorciada', 'divorciada', 'casada', 'divorciada', 'casada', 'soltera', 'soltera', 'divorciada', 'casada', 'divorciada', 'divorciada', 'casada', 'soltera', 'casada', 'soltera', 'soltera', 'divorciada', 'soltera', 'divorciada', 'soltera', 'soltera', 'divorciada', 'divorciada', 'viuda', 'casada', 'soltera', 'soltera', 'casada', 'soltera', 'divorciada', 'divorciada', 'casada', 'soltera', 'soltera', 'soltera', 'casada', 'casada', 'casada', 'divorciada', 'divorciada', 'divorciada', 'soltera', 'casada', 'soltera', 'soltera', 'casada', 'casada', 'casada', 'viuda', 'soltera', 'divorciada', 'soltera', 'casada', 'casada', 'divorciada', 'divorciada', 'casada', 'soltera', 'soltera', 'soltera', 'soltera', 'soltera', 'casada', 'soltera', 'soltera', 'soltera', 'casada', 'viuda', 'divorciada', 'casada', 'divorciada', 'viuda', 'casada', 'soltera', 'casada', 'soltera', 'casada', 'divorciada', 'casada', 'divorciada', 'soltera', 'casada', 'casada', 'divorciada', 'soltera', 'soltera', 'soltera', 'casada', 'casada', 'divorciada', 'soltera', 'casada', 'soltera', 'divorciada', 'soltera', 'soltera', 'divorciada', 'divorciada', 'casada', 'casada', 'soltera', 'soltera', 'divorciada', 'casada', 'casada', 'casada', 'soltera', 'divorciada', 'casada', 'casada', 'soltera', 'casada', 'divorciada', 'divorciada', 'soltera', 'divorciada', 'divorciada', 'casada', 'divorciada', 'soltera', 'soltera', 'casada', 'soltera', 'casada', 'divorciada', 'casada', 'divorciada', 'soltera', 'divorciada', 'divorciada', 'casada', 'soltera', 'divorciada', 'casada', 'soltera', 'casada', 'divorciada', 'casada', 'divorciada', 'casada', 'divorciada', 'casada', 'soltera', 'soltera', 'casada', 'divorciada', 'soltera', 'soltera', 'casada', 'casada', 'casada', 'casada', 'divorciada', 'soltera', 'divorciada', 'divorciada', 'casada', 'divorciada', 'soltera', 'soltera', 'casada', 'soltera', 'casada', 'casada', 'casada', 'casada', 'casada', 'divorciada', 'soltera', 'casada', 'divorciada', 'casada', 'divorciada', 'casada', 'casada', 'soltera', 'casada', 'casada', 'soltera', 'casada', 'soltera', 'casada', 'casada', 'soltera', 'casada', 'casada', 'soltera', 'divorciada', 'casada', 'soltera', 'soltera', 'casada', 'divorciada', 'casada', 'casada', 'casada', 'divorciada', 'soltera', 'casada', 'casada', 'casada', 'soltera', 'divorciada', 'soltera', 'casada', 'divorciada', 'soltera', 'casada', 'viuda', 'casada', 'casada', 'casada', 'soltera', 'soltera', 'casada', 'viuda', 'divorciada', 'soltera', 'divorciada', 'casada', 'casada', 'soltera', 'casada', 'divorciada', 'casada', 'casada', 'viuda', 'soltera', 'divorciada', 'divorciada', 'soltera', 'soltera', 'soltera', 'soltera', 'soltera', 'casada', 'casada', 'casada', 'casada', 'divorciada', 'soltera', 'casada', 'viuda', 'casada', 'divorciada', 'casada'], 'estrato': ['5', '1', '3', '3', '2', '3', '4', '2', '2', '3', '2', '2', '2', '3', '1', '1', '3', '2', '3', '2', '3', '1', '2', '2', '3', '1', '3', '3', '3', '1', '1', '2', '2', '2', '2', '2', '2', '2', '5', '1', '2', '2', '3', '2', '2', '3', '2', '2', '2', '3', '3', '2', '3', '4', '2', '3', '1', '2', '1', '2', '3', '1', '2', '1', '3', '2', '2', '3', '2', '2', '2', '3', '2', '2', '3', '1', '3', '1', '2', '3', '4', '2', '2', '1', '2', '2', '1', '4', '3', '1', '3', '2', '1', '1', '3', '1', '2', '4', '2', '5', '1', '2', '1', '3', '1', '2', '1', '1', '1', '3', '2', '1', '3', '2', '4', '2', '2', '3', '2', '1', '3', '3', '4', '2', '3', '3', '3', '3', '1', '4', '3', '1', '2', '1', '3', '3', '2', '2', '3', '2', '1', '2', '4', '3', '3', '3', '2', '3', '2', '3', '2', '2', '3', '4', '2', '3', '2', '1', '2', '3', '2', '3', '1', '1', '2', '1', '1', '1', '4', '2', '2', '2', '2', '3', '3', '1', '2', '2', '2', '3', '1', '4', '2', '3', '1', '3', '2', '2', '3', '2', '3', '2', '3', '1', '2', '4', '5', '1', '3', '2', '2', '1', '3', '2', '3', '3', '4', '2', '2', '1', '3', '2', '2', '1', '1', '3', '1', '1', '2', '3', '4', '2', '2', '2', '3', '2', '3', '3', '3', '2', '1', '3', '1', '3', '1', '3', '3', '2', '2', '1', '2', '3', '5', '2', '1', '2', '2', '3', '1', '3', '1', '4', '2', '1', '3', '2', '3', '3', '3', '5', '2', '2', '2', '2', '2', '1', '3', '3', '3', '1', '2', '4', '2', '3', '2', '3', '2', '4', '3', '1', '2', '1', '4', '1', '3', '4', '1', '1', '1', '1', '1', '3', '3', '3', '3', '2', '5', '3', '2', '1', '3', '4', '3', '2', '2', '1', '3', '3', '2', '1', '3', '3', '3', '1', '2', '2', '3', '1', '1', '3', '4', '1', '2', '3', '4', '3', '3', '3', '2', '2', '2', '1', '3', '1', '1', '3', '2', '2', '2', '3', '2', '2', '2', '3', '2', '2', '2', '1', '3', '2', '4', '5', '2', '2', '5', '2', '2', '1', '3', '1', '5', '1', '3', '1', '4', '3', '2', '2', '1', '2', '2', '4', '4', '3', '3', '3', '1', '1', '4', '3', '2', '1', '2', '3', '4', '1', '2', '1', '2', '4', '2', '3', '4', '4', '4', '2', '2', '3', '1', '3', '3', '2', '3', '2', '4', '2', '1', '2', '3', '2', '2', '3', '1', '2', '3', '2', '3', '2', '3', '2', '3', '1', '1', '3', '2', '2', '2', '1', '3', '3', '2', '5', '2', '3', '1', '1', '3', '3', '2', '3', '2', '1', '3', '3', '1', '2', '2', '2', '3', '2', '3', '1', '2', '3', '3', '1', '2', '1', '2', '2', '1', '5', '1', '2', '3', '2', '1', '3', '1', '3', '3', '3', '3', '2', '2', '2', '2', '3', '2', '3', '1', '4', '2', '3', '3', '2', '2', '3', '3', '1', '3', '2', '2', '1', '1', '5', '1', '1', '2', '2'], 'promedio': ['2.4', '0.9', '3.2', '2.1', '2.1', '2.0', '2.7', '4.9', '2.1', '4.5', '3.0', '3.0', '3.5', '1.8', '1.2', '0.1', '1.0', '3.9', '2.9', '3.0', '3.0', '3.0', '4.3', '2.3', '2.6', '2.3', '3.0', '2.8', '1.0', '2.9', '3.7', '3.2', '3.3', '3.9', '2.6', '2.4', '3.9', '1.8', '3.3', '2.1', '1.9', '1.7', '2.5', '2.9', '1.5', '4.1', '0.9', '3.0', '2.3', '4.5', '2.8', '3.8', '3.3', '3.9', '3.0', '2.7', '2.4', '1.1', '2.6', '3.1', '4.9', '3.1', '3.0', '2.1', '2.2', '2.3', '3.3', '0.8', '1.7', '3.9', '4.3', '2.1', '1.5', '2.1', '4.0', '3.1', '2.9', '0.0', '2.5', '4.0', '2.3', '3.3', '3.5', '1.2', '3.0', '3.4', '2.7', '0.0', '2.1', '2.2', '3.4', '2.6', '3.8', '1.8', '2.0', '2.4', '4.0', '1.9', '1.8', '3.4', '2.6', '3.0', '3.1', '3.1', '3.5', '2.1', '2.2', '3.7', '4.1', '4.7', '3.6', '3.6', '1.4', '3.9', '1.4', '3.8', '1.6', '1.7', '1.8', '3.0', '3.6', '2.1', '2.2', '3.7', '2.7', '2.5', '1.3', '1.2', '2.1', '1.3', '3.2', '1.5', '2.6', '1.2', '4.2', '1.9', '3.6', '4.8', '4.0', '2.8', '3.6', '1.3', '2.2', '1.8', '2.4', '4.0', '3.5', '3.4', '3.0', '3.8', '0.2', '3.4', '3.5', '2.9', '2.0', '1.7', '2.5', '2.3', '1.2', '4.6', '2.3', '4.4', '4.9', '3.7', '0.1', '3.0', '2.0', '1.5', '3.6', '3.8', '2.4', '1.6', '2.8', '3.4', '3.1', '3.8', '3.0', '2.9', '1.5', '3.6', '2.3', '3.0', '3.0', '1.3', '1.1', '3.3', '2.4', '3.1', '3.9', '2.8', '3.1', '3.0', '1.3', '3.9', '3.8', '3.1', '2.4', '2.2', '2.4', '2.4', '0.9', '3.4', '3.7', '2.8', '2.5', '2.1', '2.3', '4.9', '1.3', '2.5', '3.6', '0.2', '3.0', '4.1', '3.2', '2.3', '2.7', '2.6', '2.9', '1.8', '2.9', '2.0', '4.4', '2.4', '3.3', '1.0', '2.1', '2.1', '3.0', '2.4', '3.0', '1.3', '1.4', '3.2', '3.3', '2.5', '2.6', '1.6', '1.1', '2.4', '3.8', '0.5', '3.3', '5.0', '2.1', '2.0', '0.5', '3.4', '3.5', '0.3', '4.0', '0.4', '3.5', '4.0', '3.5', '1.4', '4.2', '1.1', '2.0', '4.8', '0.8', '2.5', '4.2', '1.9', '0.9', '3.0', '3.2', '1.0', '1.9', '2.6', '3.3', '2.3', '3.0', '3.0', '2.0', '1.0', '1.5', '2.0', '2.9', '0.7', '1.2', '4.0', '1.9', '4.8', '1.4', '2.7', '2.7', '4.3', '0.6', '4.0', '1.1', '3.7', '2.3', '2.1', '3.7', '3.0', '2.4', '2.2', '3.0', '3.0', '3.5', '0.9', '3.5', '2.7', '3.0', '3.7', '1.0', '3.0', '4.4', '0.9', '2.7', '3.6', '2.5', '2.2', '3.6', '1.9', '3.1', '0.2', '3.1', '4.0', '2.3', '3.8', '1.3', '3.5', '1.2', '2.6', '3.2', '2.6', '1.9', '3.0', '3.7', '3.6', '1.1', '2.8', '2.0', '3.2', '3.5', '4.0', '3.6', '2.3', '3.0', '3.6', '1.9', '0.6', '2.0', '0.6', '0.9', '3.3', '2.1', '2.7', '2.5', '2.9', '3.5', '2.9', '1.6', '4.4', '3.9', '3.5', '3.2', '2.0', '2.2', '4.0', '2.9', '4.9', '2.6', '2.2', '3.8', '3.7', '3.6', '3.0', '3.4', '2.6', '2.0', '2.4', '3.9', '1.5', '5.0', '3.9', '3.7', '1.2', '1.8', '0.4', '2.5', '0.0', '3.4', '4.7', '3.6', '2.0', '2.2', '1.7', '3.1', '2.4', '3.1', '0.0', '4.8', '2.7', '1.1', '3.5', '4.3', '1.0', '3.7', '2.1', '1.8', '3.2', '2.2', '0.1', '1.6', '3.0', '2.8', '4.5', '2.0', '1.0', '1.0', '2.9', '1.5', '1.2', '3.2', '0.2', '2.1', '2.5', '1.9', '2.9', '4.2', '0.5', '0.2', '0.6', '3.1', '3.1', '4.2', '2.7', '3.0', '1.0', '2.5', '4.0', '4.0', '0.3', '0.3', '2.9', '2.1', '2.0', '2.5', '1.1', '3.6', '3.1', '3.1', '1.7', '3.0', '3.5', '1.3', '1.7', '3.4', '3.2', '4.5', '4.2', '4.1', '3.5', '3.0', '0.1', '3.8', '0.2', '3.4', '2.0', '3.3', '1.9', '0.7', '1.3', '3.7', '3.5', '2.3', '2.7', '3.4', '4.9', '3.7', '1.8', '2.4', '3.2', '0.6', '3.4', '4.6', '3.2', '2.2', '2.2', '3.5', '2.2', '1.4', '0.1', '3.1', '0.2', '3.3', '3.7', '2.0', '4.9', '3.4', '0.8', '2.4', '2.1', '2.9', '2.1', '2.7', '3.0'], 'genero': ['masculino', 'masculino', 'femenino', 'masculino', 'otro', 'no binario', 'masculino', 'femenino', 'femenino', 'masculino', 'femenino', 'femenino', 'femenino', 'femenino', 'no binario', 'femenino', 'masculino', 'femenino', 'masculino', 'masculino', 'femenino', 'femenino', 'no binario', 'masculino', 'femenino', 'masculino', 'femenino', 'femenino', 'femenino', 'femenino', 'femenino', 'no binario', 'masculino', 'masculino', 'no binario', 'masculino', 'femenino', 'femenino', 'femenino', 'masculino', 'masculino', 'masculino', 'masculino', 'masculino', 'femenino', 'femenino', 'no binario', 'femenino', 'femenino', 'masculino', 'femenino', 'femenino', 'masculino', 'femenino', 'masculino', 'masculino', 'femenino', 'femenino', 'masculino', 'masculino', 'femenino', 'masculino', 'femenino', 'masculino', 'femenino', 'femenino', 'no binario', 'masculino', 'femenino', 'femenino', 'femenino', 'masculino', 'masculino', 'femenino', 'femenino', 'femenino', 'masculino', 'no binario', 'no binario', 'masculino', 'femenino', 'no binario', 'femenino', 'masculino', 'femenino', 'masculino', 'masculino', 'masculino', 'no binario', 'no binario', 'masculino', 'femenino', 'femenino', 'femenino', 'femenino', 'femenino', 'no binario', 'femenino', 'masculino', 'femenino', 'femenino', 'masculino', 'masculino', 'masculino', 'no binario', 'femenino', 'masculino', 'femenino', 'femenino', 'femenino', 'femenino', 'masculino', 'femenino', 'femenino', 'femenino', 'femenino', 'femenino', 'femenino', 'femenino', 'masculino', 'femenino', 'femenino', 'masculino', 'femenino', 'femenino', 'femenino', 'masculino', 'femenino', 'femenino', 'masculino', 'masculino', 'femenino', 'masculino', 'femenino', 'femenino', 'femenino', 'otro', 'femenino', 'masculino', 'femenino', 'masculino', 'femenino', 'femenino', 'femenino', 'femenino', 'femenino', 'femenino', 'femenino', 'femenino', 'masculino', 'femenino', 'masculino', 'femenino', 'femenino', 'femenino', 'femenino', 'femenino', 'femenino', 'masculino', 'masculino', 'femenino', 'masculino', 'masculino', 'masculino', 'otro', 'femenino', 'no binario', 'femenino', 'femenino', 'masculino', 'masculino', 'femenino', 'femenino', 'femenino', 'masculino', 'masculino', 'masculino', 'femenino', 'no binario', 'no binario', 'masculino', 'femenino', 'femenino', 'femenino', 'masculino', 'masculino', 'masculino', 'femenino', 'masculino', 'femenino', 'masculino', 'femenino', 'femenino', 'femenino', 'masculino', 'otro', 'masculino', 'femenino', 'masculino', 'masculino', 'femenino', 'masculino', 'masculino', 'masculino', 'femenino', 'masculino', 'femenino', 'femenino', 'femenino', 'femenino', 'femenino', 'masculino', 'masculino', 'femenino', 'masculino', 'masculino', 'femenino', 'femenino', 'femenino', 'masculino', 'femenino', 'masculino', 'masculino', 'femenino', 'femenino', 'femenino', 'femenino', 'no binario', 'femenino', 'femenino', 'femenino', 'no binario', 'femenino', 'masculino', 'femenino', 'femenino', 'femenino', 'femenino', 'masculino', 'femenino', 'masculino', 'no binario', 'femenino', 'femenino', 'masculino', 'femenino', 'masculino', 'masculino', 'masculino', 'masculino', 'femenino', 'masculino', 'femenino', 'masculino', 'masculino', 'femenino', 'femenino', 'femenino', 'masculino', 'no binario', 'no binario', 'femenino', 'femenino', 'masculino', 'masculino', 'masculino', 'masculino', 'femenino', 'femenino', 'masculino', 'masculino', 'femenino', 'masculino', 'femenino', 'masculino', 'masculino', 'masculino', 'masculino', 'femenino', 'masculino', 'femenino', 'masculino', 'femenino', 'no binario', 'femenino', 'no binario', 'femenino', 'femenino', 'femenino', 'masculino', 'masculino', 'masculino', 'femenino', 'femenino', 'femenino', 'masculino', 'femenino', 'femenino', 'femenino', 'masculino', 'femenino', 'masculino', 'no binario', 'femenino', 'femenino', 'masculino', 'femenino', 'femenino', 'femenino', 'femenino', 'femenino', 'masculino', 'masculino', 'no binario', 'femenino', 'masculino', 'femenino', 'no binario', 'femenino', 'masculino', 'masculino', 'femenino', 'femenino', 'femenino', 'femenino', 'femenino', 'femenino', 'masculino', 'femenino', 'masculino', 'masculino', 'femenino', 'masculino', 'femenino', 'masculino', 'femenino', 'masculino', 'femenino', 'masculino', 'masculino', 'femenino', 'masculino', 'femenino', 'femenino', 'masculino', 'femenino', 'femenino', 'no binario', 'femenino', 'masculino', 'femenino', 'masculino', 'femenino', 'femenino', 'masculino', 'femenino', 'femenino', 'masculino', 'masculino', 'femenino', 'femenino', 'no binario', 'masculino', 'femenino', 'masculino', 'masculino', 'femenino', 'femenino', 'femenino', 'no binario', 'femenino', 'masculino', 'masculino', 'otro', 'masculino', 'no binario', 'masculino', 'femenino', 'femenino', 'masculino', 'masculino', 'masculino', 'femenino', 'femenino', 'masculino', 'masculino', 'femenino', 'masculino', 'masculino', 'masculino', 'femenino', 'masculino', 'masculino', 'femenino', 'masculino', 'masculino', 'femenino', 'femenino', 'masculino', 'femenino', 'no binario', 'masculino', 'masculino', 'masculino', 'femenino', 'femenino', 'femenino', 'femenino', 'masculino', 'femenino', 'masculino', 'femenino', 'masculino', 'no binario', 'femenino', 'femenino', 'masculino', 'femenino', 'masculino', 'masculino', 'masculino', 'masculino', 'masculino', 'no binario', 'masculino', 'masculino', 'femenino', 'no binario', 'masculino', 'femenino', 'femenino', 'masculino', 'masculino', 'femenino', 'masculino', 'masculino', 'masculino', 'masculino', 'no binario', 'femenino', 'masculino', 'masculino', 'femenino', 'masculino', 'femenino', 'femenino', 'masculino', 'femenino', 'femenino', 'femenino', 'femenino', 'femenino', 'masculino', 'femenino', 'masculino', 'femenino', 'otro', 'masculino', 'masculino', 'no binario', 'femenino', 'femenino', 'femenino', 'masculino', 'masculino', 'masculino', 'femenino', 'no binario', 'femenino', 'femenino', 'femenino', 'masculino', 'masculino', 'masculino', 'masculino', 'masculino', 'masculino', 'masculino', 'femenino', 'femenino', 'masculino', 'femenino', 'masculino', 'masculino', 'femenino', 'femenino', 'femenino', 'femenino', 'masculino', 'masculino', 'masculino', 'masculino', 'masculino', 'masculino', 'masculino', 'femenino', 'femenino', 'no binario', 'femenino', 'femenino'], 'region': ['Andina', 'Andina', 'Pacifica', 'Pacifica', 'Orinoquia', 'Caribe', 'Amazonia', 'Andina', 'Caribe', 'Andina', 'Caribe', 'Pacifica', 'Caribe', 'Pacifica', 'Pacifica', 'Pacifica', 'Caribe', 'Caribe', 'Andina', 'Andina', 'Pacifica', 'Pacifica', 'Caribe', 'Caribe', 'Andina', 'Caribe', 'Andina', 'Caribe', 'Caribe', 'Andina', 'Caribe', 'Caribe', 'Caribe', 'Andina', 'Andina', 'Pacifica', 'Caribe', 'Caribe', 'Caribe', 'Orinoquia', 'Pacifica', 'Pacifica', 'Caribe', 'Pacifica', 'Orinoquia', 'Andina', 'Andina', 'Caribe', 'Caribe', 'Amazonia', 'Orinoquia', 'Caribe', 'Pacifica', 'Caribe', 'Pacifica', 'Pacifica', 'Caribe', 'Caribe', 'Orinoquia', 'Caribe', 'Caribe', 'Andina', 'Andina', 'Andina', 'Pacifica', 'Orinoquia', 'Pacifica', 'Pacifica', 'Pacifica', 'Pacifica', 'Caribe', 'Caribe', 'Caribe', 'Orinoquia', 'Andina', 'Andina', 'Pacifica', 'Caribe', 'Caribe', 'Pacifica', 'Caribe', 'Pacifica', 'Caribe', 'Amazonia', 'Caribe', 'Caribe', 'Caribe', 'Caribe', 'Caribe', 'Caribe', 'Caribe', 'Andina', 'Andina', 'Andina', 'Andina', 'Pacifica', 'Caribe', 'Amazonia', 'Orinoquia', 'Orinoquia', 'Andina', 'Pacifica', 'Amazonia', 'Pacifica', 'Caribe', 'Caribe', 'Pacifica', 'Pacifica', 'Caribe', 'Pacifica', 'Andina', 'Andina', 'Andina', 'Orinoquia', 'Caribe', 'Andina', 'Andina', 'Orinoquia', 'Caribe', 'Caribe', 'Caribe', 'Pacifica', 'Caribe', 'Caribe', 'Caribe', 'Caribe', 'Orinoquia', 'Caribe', 'Caribe', 'Orinoquia', 'Andina', 'Pacifica', 'Caribe', 'Pacifica', 'Andina', 'Caribe', 'Caribe', 'Andina', 'Orinoquia', 'Caribe', 'Andina', 'Caribe', 'Caribe', 'Caribe', 'Andina', 'Caribe', 'Andina', 'Andina', 'Andina', 'Andina', 'Andina', 'Pacifica', 'Andina', 'Orinoquia', 'Andina', 'Caribe', 'Caribe', 'Caribe', 'Pacifica', 'Caribe', 'Pacifica', 'Pacifica', 'Andina', 'Andina', 'Caribe', 'Pacifica', 'Pacifica', 'Pacifica', 'Caribe', 'Caribe', 'Andina', 'Caribe', 'Pacifica', 'Pacifica', 'Caribe', 'Andina', 'Pacifica', 'Caribe', 'Pacifica', 'Pacifica', 'Caribe', 'Caribe', 'Andina', 'Andina', 'Pacifica', 'Andina', 'Andina', 'Caribe', 'Pacifica', 'Orinoquia', 'Caribe', 'Pacifica', 'Pacifica', 'Caribe', 'Orinoquia', 'Amazonia', 'Caribe', 'Caribe', 'Orinoquia', 'Caribe', 'Pacifica', 'Andina', 'Caribe', 'Andina', 'Caribe', 'Orinoquia', 'Andina', 'Andina', 'Caribe', 'Andina', 'Andina', 'Caribe', 'Andina', 'Caribe', 'Orinoquia', 'Caribe', 'Pacifica', 'Pacifica', 'Caribe', 'Caribe', 'Amazonia', 'Orinoquia', 'Andina', 'Caribe', 'Andina', 'Caribe', 'Caribe', 'Andina', 'Orinoquia', 'Caribe', 'Andina', 'Pacifica', 'Caribe', 'Andina', 'Pacifica', 'Caribe', 'Andina', 'Caribe', 'Caribe', 'Caribe', 'Pacifica', 'Amazonia', 'Caribe', 'Caribe', 'Andina', 'Caribe', 'Pacifica', 'Andina', 'Pacifica', 'Andina', 'Pacifica', 'Pacifica', 'Pacifica', 'Pacifica', 'Caribe', 'Caribe', 'Caribe', 'Pacifica', 'Andina', 'Andina', 'Andina', 'Orinoquia', 'Pacifica', 'Caribe', 'Andina', 'Caribe', 'Andina', 'Pacifica', 'Andina', 'Caribe', 'Pacifica', 'Andina', 'Caribe', 'Andina', 'Caribe', 'Andina', 'Caribe', 'Orinoquia', 'Pacifica', 'Caribe', 'Amazonia', 'Andina', 'Andina', 'Andina', 'Caribe', 'Andina', 'Orinoquia', 'Pacifica', 'Andina', 'Pacifica', 'Pacifica', 'Caribe', 'Caribe', 'Caribe', 'Pacifica', 'Caribe', 'Caribe', 'Caribe', 'Pacifica', 'Caribe', 'Pacifica', 'Amazonia', 'Andina', 'Orinoquia', 'Andina', 'Andina', 'Orinoquia', 'Pacifica', 'Caribe', 'Pacifica', 'Caribe', 'Andina', 'Pacifica', 'Pacifica', 'Andina', 'Caribe', 'Caribe', 'Pacifica', 'Caribe', 'Caribe', 'Orinoquia', 'Andina', 'Orinoquia', 'Caribe', 'Pacifica', 'Pacifica', 'Caribe', 'Andina', 'Caribe', 'Andina', 'Andina', 'Caribe', 'Pacifica', 'Caribe', 'Caribe', 'Caribe', 'Andina', 'Pacifica', 'Andina', 'Andina', 'Caribe', 'Caribe', 'Orinoquia', 'Pacifica', 'Andina', 'Pacifica', 'Caribe', 'Pacifica', 'Andina', 'Andina', 'Caribe', 'Caribe', 'Caribe', 'Caribe', 'Caribe', 'Pacifica', 'Andina', 'Caribe', 'Andina', 'Andina', 'Pacifica', 'Pacifica', 'Caribe', 'Pacifica', 'Orinoquia', 'Caribe', 'Andina', 'Caribe', 'Pacifica', 'Caribe', 'Pacifica', 'Pacifica', 'Caribe', 'Andina', 'Andina', 'Amazonia', 'Pacifica', 'Caribe', 'Andina', 'Caribe', 'Caribe', 'Andina', 'Pacifica', 'Caribe', 'Pacifica', 'Pacifica', 'Pacifica', 'Andina', 'Andina', 'Andina', 'Andina', 'Pacifica', 'Andina', 'Andina', 'Andina', 'Andina', 'Pacifica', 'Pacifica', 'Andina', 'Caribe', 'Andina', 'Caribe', 'Pacifica', 'Pacifica', 'Andina', 'Andina', 'Pacifica', 'Andina', 'Caribe', 'Andina', 'Orinoquia', 'Pacifica', 'Andina', 'Caribe', 'Caribe', 'Caribe', 'Andina', 'Amazonia', 'Pacifica', 'Caribe', 'Andina', 'Andina', 'Orinoquia', 'Caribe', 'Andina', 'Pacifica', 'Pacifica', 'Andina', 'Andina', 'Pacifica', 'Pacifica', 'Andina', 'Caribe', 'Caribe', 'Caribe', 'Caribe', 'Caribe', 'Caribe', 'Caribe', 'Caribe', 'Pacifica', 'Andina', 'Caribe', 'Caribe', 'Andina', 'Andina', 'Caribe', 'Andina', 'Caribe', 'Pacifica', 'Caribe', 'Andina', 'Andina', 'Caribe', 'Caribe', 'Caribe', 'Amazonia', 'Pacifica', 'Andina', 'Andina', 'Caribe', 'Caribe', 'Caribe', 'Pacifica', 'Caribe', 'Andina', 'Caribe', 'Caribe', 'Caribe', 'Caribe', 'Caribe', 'Pacifica', 'Pacifica', 'Caribe', 'Caribe', 'Caribe', 'Andina', 'Caribe', 'Amazonia', 'Caribe', 'Andina', 'Pacifica', 'Caribe', 'Andina', 'Pacifica', 'Caribe', 'Andina', 'Pacifica', 'Amazonia', 'Caribe', 'Andina', 'Caribe', 'Andina', 'Andina', 'Caribe', 'Caribe', 'Andina', 'Andina', 'Andina', 'Pacifica']}\n"
     ]
    }
   ],
   "source": [
    "# código\n",
    "\n",
    "##################################################################################################################\n",
    "#          Función\n",
    "##################################################################################################################\n",
    "\n",
    "def cargar_archivos(archivo):  \n",
    "    with open (\"./Archivos/\"+ archivo + \".txt\", \"r\") as archivo:\n",
    "        lineas = archivo.read()\n",
    "        lineas = lineas.splitlines()\n",
    "    return(lineas)   \n",
    "\n",
    "##################################################################################################################\n",
    "#          Iterar y cargar archivos en un diccionarios de todas las bases txt usando la función\n",
    "##################################################################################################################\n",
    "\n",
    "archivos = [\"edad\", \"escolaridad\", \"estado_civil\", \"estrato\", \"promedio\", \"genero\", \"region\" ]\n",
    "conteo = 0 \n",
    "diccionarios_datos = {}\n",
    "while conteo <= len(archivos)-1:\n",
    "    diccionarios_datos[archivos[conteo]] = cargar_archivos(archivos[conteo])\n",
    "    conteo += 1\n",
    "print(diccionarios_datos) \n",
    "\n"
   ]
  },
  {
   "cell_type": "markdown",
   "metadata": {},
   "source": [
    "**Misión 2**\n",
    "\n",
    "Reportar las principales características en los datos.\n",
    "* *Versión base*: utilizar métricas básicas como conteos o promedios por categorías en los datos.\n",
    "* *Milla extra*: utilizar visualizaciones simples como diagramas de barras, de pastel u otros."
   ]
  },
  {
   "cell_type": "code",
   "execution_count": 13,
   "metadata": {},
   "outputs": [
    {
     "data": {
      "text/plain": [
       "2.7"
      ]
     },
     "execution_count": 13,
     "metadata": {},
     "output_type": "execute_result"
    }
   ],
   "source": [
    "# código\n",
    "\n",
    "# importación de paquetes necesarios\n",
    "\n",
    "\n",
    "# función que calcula la mediana de una lista de datos numéricos\n",
    "def mediana(lista):\n",
    "    datos_a_organizar = lista[:]\n",
    "    datos_a_organizados = sorted(datos_a_organizar)\n",
    "    if len(datos_a_organizados)%2 != 0:\n",
    "        mediana = float(datos_a_organizados[int(len(datos_a_organizados)/2)])\n",
    "        return(mediana)\n",
    "    else:\n",
    "        mediana = (float(datos_a_organizados[int(len(datos_a_organizados)/2)-1]) + float(datos_a_organizados[(int(len(datos_a_organizados)/2))])) /2\n",
    "        return(mediana)\n",
    "    \n",
    "mediana(diccionarios_datos[\"promedio\"])\n",
    "\n",
    "\n",
    "# función que calcula la desviación de una lista de datos numéricos\n",
    "\n",
    "\n",
    "# '''\n",
    "# función que visualiza las características de una población dada\n",
    "# (nota que la variable 'poblacion' es local; podemos pasar cualquier población a la función)\n",
    "# '''"
   ]
  },
  {
   "cell_type": "markdown",
   "metadata": {},
   "source": [
    "## 2. Abordaje de la pregunta de negocio\n",
    "\n",
    "El comité encargado de diseñar el programa de becas ha tenido dificultades para llegar a acuerdos. Algunos piensan que el criterio principal de selección debería ser respecto a lo económico y académico, sin importar otras características personales, mientras que otros piensan que considerar estas características es, de hecho, parte del espíritu del programa.\n",
    "\n",
    "* El primer grupo sugiere que se deben tomar en orden ascendente los estratos y elegir, en cada uno de ellos, al 2% de personas con promedio académico superior en esa sub-población, hasta que se agoten las becas disponibles. En caso de quedar becas disponibles al final del proceso, se repite el mismo esquema, considerando que ya no se tienen en cuenta las personas que hayan sido elegidas en rondas anteriores.\n",
    "\n",
    "* El segundo grupo sugiere que los recibidores de becas deben estar igualmente distribuidos entre las diferentes regiones y generos, considerando, por supuesto, que para cada una de esas sub-poblaciones, las personas elegidas sean las de mejores promedios académicos.\n",
    "\n",
    "Dado que las diferencias entre estos grupos obedecen a su entendimiento particular del problema, el presidente del comité propone utilizar los datos disponibles de las encuestas, sugiriendo que se analice qué características tendría la población de elegidos bajo cada uno de los dos criterios expuestos."
   ]
  },
  {
   "cell_type": "markdown",
   "metadata": {},
   "source": [
    "**Misión 3**\n",
    "\n",
    "Defina la pregunta de negocio y la pregunta de *analytics* para esta situación."
   ]
  },
  {
   "cell_type": "code",
   "execution_count": null,
   "metadata": {},
   "outputs": [],
   "source": [
    "# respuesta en texto (solo leeremos los primeros 300 caracteres de la respuesta)\n",
    "\n",
    "pregunta_negocio = ''\n",
    "\n",
    "pregunta_analytics = ''"
   ]
  },
  {
   "cell_type": "markdown",
   "metadata": {},
   "source": [
    "**Misión 4**\n",
    "\n",
    "Desarrollar un algoritmo que permita conocer la población que sería becada según los criterios propuestos por el *primer grupo* mencionado arriba."
   ]
  },
  {
   "cell_type": "code",
   "execution_count": null,
   "metadata": {},
   "outputs": [],
   "source": [
    "# código\n"
   ]
  },
  {
   "cell_type": "markdown",
   "metadata": {},
   "source": [
    "**Misión 5**\n",
    "\n",
    "Desarrollar un algoritmo que permita conocer la población que sería becada según los criterios propuestos por el *segundo grupo* mencionado arriba."
   ]
  },
  {
   "cell_type": "code",
   "execution_count": null,
   "metadata": {},
   "outputs": [],
   "source": [
    "# código\n"
   ]
  },
  {
   "cell_type": "markdown",
   "metadata": {},
   "source": [
    "**Misión 6**\n",
    "\n",
    "Desarrollar un algoritmo, a partir de lo anterior, cuyo resultado permita al comité comparar fácilmente las características de las dos poblaciones hipotéticas que recibirían becas.\n",
    "\n",
    "*Ayuda*: considera utilizar tus implementaciones de la *Misión 2* para facilitar esta misión."
   ]
  },
  {
   "cell_type": "code",
   "execution_count": null,
   "metadata": {},
   "outputs": [],
   "source": [
    "# código\n"
   ]
  },
  {
   "cell_type": "markdown",
   "metadata": {},
   "source": [
    "## 3. Desarrollo de una solución analítica\n",
    "\n",
    "Reconociendo la complejidad de este problema (que no permite reducirlo a una dicotomía) y viendo el potencial del análisis de datos para enriquecer la discusión y los insumos para tomar decisiones, el comité ha solicitado una herramienta analítica que les permita . Sus requerimientos son:\n",
    "\n",
    "* La herramienta debe permitir ingresar una política de selección de becados.\n",
    "    * Se debe poder elegir el rango de edad de los aspirantes.\n",
    "    * Se debe poder elegir qué proporción de las becas se asigna a cada género, a cada estrato, o a cada región (pero sólo debe elegirse uno de estos criterios).\n",
    "* La herramienta debe generar un resultado que permita al comité analizar las características de la población potencialmente elegida si se usara la política ingresada.\n",
    "\n",
    "**Misión 7**\n",
    "\n",
    "Desarrollar, a partir de lo construido hasta el momento, un algoritmo que permita cumplir con los requerimientos del comité."
   ]
  },
  {
   "cell_type": "code",
   "execution_count": null,
   "metadata": {},
   "outputs": [],
   "source": [
    "# código\n",
    "\n",
    "    \n",
    "    "
   ]
  },
  {
   "cell_type": "markdown",
   "metadata": {},
   "source": [
    "**Misión 8**\n",
    "\n",
    "Proponer, con base en tu propio uso de la herramienta, una política de ingreso que consideres apropiada dado el contexto proporcionado. Si lo crees adecuado, explica, máximo 500 caracteres, las virtudes de tu propuesta (esto puede estar soportado en los datos, o no)."
   ]
  },
  {
   "cell_type": "code",
   "execution_count": null,
   "metadata": {},
   "outputs": [],
   "source": [
    "# respuesta en texto (solo leeremos los primeros 300 caracteres de la respuesta)\n",
    "\n",
    "respuesta = ''"
   ]
  },
  {
   "cell_type": "markdown",
   "metadata": {},
   "source": [
    "**Misión 9**\n",
    "\n",
    "Ejecutar el algoritmo desarrollado en la *Misión 7* sobre la política que sugieres proponer al comité. Explicar claramente tus conlusiones con el soporte de los resultados de la herramienta."
   ]
  },
  {
   "cell_type": "code",
   "execution_count": null,
   "metadata": {},
   "outputs": [],
   "source": [
    "# código\n",
    "\n",
    "conclusion = ''"
   ]
  },
  {
   "cell_type": "markdown",
   "metadata": {},
   "source": [
    "## Referencias\n",
    "* Discriminación Positiva<br> \n",
    "https://es.wikipedia.org/wiki/Discriminaci%C3%B3n_positiva\n",
    "* Análisis de formulación del programa “Ser Pilo Paga”<br>\n",
    "https://repository.urosario.edu.co/handle/10336/12526\n",
    "* La acción afirmativa en la Universidad de los Andes: El caso del programa \"Oportunidades para talentos nacionales\"<br> http://www.scielo.org.co/scielo.php?script=sci_arttext&pid=S0123-885X2004000300005\n",
    "* Acción afirmativa y equidad: un análisis desde la propuesta de Thomas Nagel<br>\n",
    "http://www.scielo.org.mx/scielo.php?script=sci_arttext&pid=S2007-24062016000200049"
   ]
  },
  {
   "cell_type": "markdown",
   "metadata": {},
   "source": [
    "## Créditos"
   ]
  },
  {
   "cell_type": "markdown",
   "metadata": {},
   "source": [
    "Camilo Gómez - 11/06/21<br>\n",
    "*Revisado*: 25/08/21"
   ]
  },
  {
   "cell_type": "code",
   "execution_count": null,
   "metadata": {},
   "outputs": [],
   "source": []
  }
 ],
 "metadata": {
  "kernelspec": {
   "display_name": "Python 3",
   "language": "python",
   "name": "python3"
  },
  "language_info": {
   "codemirror_mode": {
    "name": "ipython",
    "version": 3
   },
   "file_extension": ".py",
   "mimetype": "text/x-python",
   "name": "python",
   "nbconvert_exporter": "python",
   "pygments_lexer": "ipython3",
   "version": "3.7.4"
  }
 },
 "nbformat": 4,
 "nbformat_minor": 1
}
